{
 "cells": [
  {
   "cell_type": "markdown",
   "metadata": {
    "cellType": "markdown",
    "uuid": "edae7894-4f8c-4363-8173-ee89f096b727"
   },
   "source": [
    "第二章：数据重构\n",
    "2.4数据的合并\n",
    "2.4.1任务一：将数据文件夹里面的所有数据都加载，与之前的原始数据索引，观察他们的之间的关系"
   ]
  },
  {
   "cell_type": "code",
   "execution_count": 3,
   "metadata": {
    "uuid": "25780aea-10f8-4c5f-953d-39de16cb6b0a"
   },
   "outputs": [],
   "source": [
    "# 导入基本库\n",
    "import numpy as np\n",
    "import pandas as pd"
   ]
  },
  {
   "cell_type": "code",
   "execution_count": null,
   "metadata": {
    "uuid": "62c4da4e-49b3-4274-9ddc-7e59352ea3cf"
   },
   "outputs": [],
   "source": [
    "# 载入data文件中的:train-left-up.csv\n",
    "text = pd.read_csv('/Users/chenandong/Documents/datawhale数据分析每个人题目设计/招募阶段/第二章项目集合/data/train-left-up.csv')\n",
    "text.head()"
   ]
  },
  {
   "cell_type": "code",
   "execution_count": 1,
   "metadata": {
    "uuid": "f47fcc1a-cce5-4db9-a309-8a805c2945e9"
   },
   "outputs": [
    {
     "ename": "SyntaxError",
     "evalue": "invalid character in identifier (<ipython-input-1-83cb94486e3a>, line 1)",
     "output_type": "error",
     "traceback": [
      "\u001b[0;36m  File \u001b[0;32m\"<ipython-input-1-83cb94486e3a>\"\u001b[0;36m, line \u001b[0;32m1\u001b[0m\n\u001b[0;31m    text_left_up  =  pd 。read_csv （“ data / train-left-up.csv” ）\u001b[0m\n\u001b[0m                                ^\u001b[0m\n\u001b[0;31mSyntaxError\u001b[0m\u001b[0;31m:\u001b[0m invalid character in identifier\n"
     ]
    }
   ],
   "source": [
    "text_left_up  =  pd 。read_csv （“ data / train-left-up.csv” ）\n",
    "text_left_down  =  pd 。read_csv （“ data / train-left-down.csv” ）\n",
    "text_right_up  =  pd 。read_csv （“ data / train-right-up.csv” ）\n",
    "text_right_down  =  pd 。read_csv （“ data / train-right-down.csv” ）"
   ]
  },
  {
   "cell_type": "code",
   "execution_count": 2,
   "metadata": {
    "uuid": "517f17bc-6202-4ee5-9a17-aec5ef0a4879"
   },
   "outputs": [
    {
     "ename": "NameError",
     "evalue": "name 'text_left_up' is not defined",
     "output_type": "error",
     "traceback": [
      "\u001b[0;31m---------------------------------------------------------------------------\u001b[0m",
      "\u001b[0;31mNameError\u001b[0m                                 Traceback (most recent call last)",
      "\u001b[0;32m<ipython-input-2-c0a0aee5982d>\u001b[0m in \u001b[0;36m<module>\u001b[0;34m\u001b[0m\n\u001b[0;32m----> 1\u001b[0;31m \u001b[0mtext_left_up\u001b[0m\u001b[0;34m.\u001b[0m\u001b[0mhead\u001b[0m\u001b[0;34m(\u001b[0m\u001b[0;34m)\u001b[0m\u001b[0;34m\u001b[0m\u001b[0m\n\u001b[0m",
      "\u001b[0;31mNameError\u001b[0m: name 'text_left_up' is not defined"
     ]
    }
   ],
   "source": [
    "text_left_up.head()"
   ]
  },
  {
   "cell_type": "code",
   "execution_count": null,
   "metadata": {
    "uuid": "1a0657fc-e479-4d11-a511-52edbfb3d97f"
   },
   "outputs": [],
   "source": [
    "text_left_down.head()"
   ]
  },
  {
   "cell_type": "code",
   "execution_count": null,
   "metadata": {
    "uuid": "374a8656-b65f-433b-94f2-08b4ffbceaba"
   },
   "outputs": [],
   "source": [
    "text_right_down.head()"
   ]
  },
  {
   "cell_type": "markdown",
   "metadata": {
    "cellType": "markdown",
    "uuid": "78cee94d-9c7a-40b2-ac70-000734a13c82"
   },
   "source": [
    "【提示】结合之前我们加载的train.csv数据，大致预测一下上面的数据是什么\n"
   ]
  },
  {
   "cell_type": "markdown",
   "metadata": {
    "cellType": "markdown",
    "uuid": "8f856b75-b49f-4094-91bd-8949647a31f6"
   },
   "source": [
    "2.4.2：任务二：使用concat方法：将数据train-left-up.csv和train-right-up.csv横向合并为一张表，并保存这张表为result_up\n"
   ]
  },
  {
   "cell_type": "code",
   "execution_count": null,
   "metadata": {
    "uuid": "d8dda7cf-6989-4a00-913f-cfd7d5187711"
   },
   "outputs": [],
   "source": [
    "list_up = [text_left_up,text_right_up]\n",
    "result_up = pd.concat(list_up,axis=1)\n",
    "result_up.head()"
   ]
  },
  {
   "cell_type": "markdown",
   "metadata": {
    "cellType": "markdown",
    "uuid": "966c3e6d-24bf-403a-8dff-54c4885c8c38"
   },
   "source": [
    "2.4.3 任务三：使用concat方法：将train-left-down和train-right-down横向合并为一张表，并保存这张表为result_down。然后将上边的result_up和result_down纵向合并为result。\n"
   ]
  },
  {
   "cell_type": "code",
   "execution_count": null,
   "metadata": {
    "uuid": "4749646f-fd88-4893-9a01-9e6ae5042ff7"
   },
   "outputs": [],
   "source": [
    "list_down=[text_left_down,text_right_down]\n",
    "result_down = pd.concat(list_down,axis=1)\n",
    "result = pd.concat([result_up,result_down])\n",
    "result.head()"
   ]
  },
  {
   "cell_type": "markdown",
   "metadata": {
    "cellType": "markdown",
    "uuid": "15ec309d-0f8b-49cf-83d9-4a118d806b5a"
   },
   "source": [
    "2.4.4 任务四：使用DataFrame自带的方法join方法和append：完成任务二和任务三的任务\n"
   ]
  },
  {
   "cell_type": "code",
   "execution_count": null,
   "metadata": {
    "uuid": "02b5a328-4618-46e7-9113-1613f0904817"
   },
   "outputs": [],
   "source": [
    "resul_up = text_left_up.join(text_right_up)\n",
    "result_down = text_left_down.join(text_right_down)\n",
    "result = result_up.append(result_down)\n",
    "result.head()"
   ]
  },
  {
   "cell_type": "markdown",
   "metadata": {
    "cellType": "markdown",
    "uuid": "66fe35f5-afaf-411f-aa77-0c5b75a4acd2"
   },
   "source": [
    "2.4.5 任务五：使用Panads的merge方法和DataFrame的append方法：完成任务二和任务三的任务\n"
   ]
  },
  {
   "cell_type": "code",
   "execution_count": null,
   "metadata": {
    "uuid": "a1d48960-b3b7-49b7-b946-a20c6b3f7c61"
   },
   "outputs": [],
   "source": [
    "result_up = pd.merge(text_left_up,text_right_up,left_index=True,right_index=True)\n",
    "result_down = pd.merge(text_left_down,text_right_down,left_index=True,right_index=True)\n",
    "result = resul_up.append(result_down)\n",
    "result.head()"
   ]
  },
  {
   "cell_type": "markdown",
   "metadata": {
    "cellType": "markdown",
    "uuid": "9301faca-8b8d-44cc-8e8b-d9bccd85a231"
   },
   "source": [
    "【思考】对比merge、join以及concat的方法的不同以及相同。思考一下在任务四和任务五的情况下，为什么都要求使用DataFrame的append方法，如何只要求使用merge或者join可不可以完成任务四和任务五呢？\n",
    "\n"
   ]
  },
  {
   "cell_type": "markdown",
   "metadata": {
    "cellType": "markdown",
    "uuid": "db1ca5d6-097e-4489-9c9b-b36edc3d6855"
   },
   "source": [
    "2.4.6 任务六：完成的数据保存为result.csv"
   ]
  },
  {
   "cell_type": "code",
   "execution_count": null,
   "metadata": {
    "uuid": "17cc407b-b1a7-46e3-945d-b2b38d20be60"
   },
   "outputs": [],
   "source": [
    "\n",
    "result.to_csv('result.csv')"
   ]
  },
  {
   "cell_type": "markdown",
   "metadata": {
    "cellType": "markdown",
    "uuid": "7e0a7e88-e1ea-493c-a5fe-da6ab78a2b39"
   },
   "source": [
    "2.5 换一种角度看数据\n",
    "2.5.1 任务一：将我们的数据变为Series类型的数据\n",
    "这个stack函数是干什么的？"
   ]
  },
  {
   "cell_type": "code",
   "execution_count": null,
   "metadata": {
    "uuid": "fe150efc-c7d2-433b-a968-d5b4d768a146"
   },
   "outputs": [],
   "source": [
    "# 将完整的数据加载出来\n",
    "text = pd.read_csv('result.csv')\n",
    "text.head()\n",
    "# 代码写在这里\n",
    "unit_result=text.stack().head(20)\n",
    "unit_result.head()"
   ]
  },
  {
   "cell_type": "code",
   "execution_count": null,
   "metadata": {
    "uuid": "e655e0ee-0d78-4c90-90b0-737decba3519"
   },
   "outputs": [],
   "source": [
    "#将代码保存为unit_result,csv\n",
    "unit_result.to_csv('unit_result.csv')\n",
    "\n",
    "test.head()\n"
   ]
  },
  {
   "cell_type": "code",
   "execution_count": null,
   "metadata": {
    "uuid": "dc50e791-5d23-4f7f-b6fb-406a4a2e4c47"
   },
   "outputs": [],
   "source": []
  },
  {
   "cell_type": "code",
   "execution_count": null,
   "metadata": {
    "uuid": "61afad3f-525e-4a59-ac54-d5a0fca82fea"
   },
   "outputs": [],
   "source": []
  }
 ],
 "metadata": {
  "kernelspec": {
   "display_name": "Python 3",
   "language": "python",
   "name": "python3"
  },
  "language_info": {
   "codemirror_mode": {
    "name": "ipython",
    "version": 3
   },
   "file_extension": ".py",
   "mimetype": "text/x-python",
   "name": "python",
   "nbconvert_exporter": "python",
   "pygments_lexer": "ipython3",
   "version": "3.6.3"
  }
 },
 "nbformat": 4,
 "nbformat_minor": 4
}
