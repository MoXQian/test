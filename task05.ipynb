{
 "cells": [
  {
   "cell_type": "markdown",
   "metadata": {
    "cellType": "markdown",
    "uuid": "b34e5058-2d2d-45eb-9135-3a8a2705d2b5"
   },
   "source": [
    "第三章模型建造和评估-建模\n",
    "经过前面的两章的知识点的学习，我可以对数数据的本身进行处理，某些数据本身的增删查补，还可以做必要的清洗工作。那么下面我们就要开始使用我们前面处理好的数据了。这一章的我们要做的就是使用数据，我们做数据分析的目的也就是，运用我们的数据以及结合我的业务来得到某些我们需要知道的结果。那么分析的第一步就是建模，，建造一个预测模型或其他模型；我们从这个模型的到结果之后，我们要分析我的模型是不是足够的可靠，那我就需要评估这个模型。今天我们学习建模，下一段我们学习评估。\n",
    "\n",
    "我们拥有的泰坦尼克号的数据集，那么我们这次的目的就是，完成泰坦尼克号幸存的预测这个任务。"
   ]
  },
  {
   "cell_type": "code",
   "execution_count": null,
   "metadata": {
    "uuid": "0c697225-fc1c-4cd6-a0b8-f17683c62e84"
   },
   "outputs": [],
   "source": [
    "import pandas as pd\n",
    "import numpy as np\n",
    "import matplotlib.pyplot as plt\n",
    "import seaborn as sns\n",
    "from IPython.display import Image"
   ]
  },
  {
   "cell_type": "code",
   "execution_count": null,
   "metadata": {
    "uuid": "a5494443-d1df-44f5-a4b2-d07df469e352"
   },
   "outputs": [],
   "source": [
    "%matplotlib inline"
   ]
  },
  {
   "cell_type": "code",
   "execution_count": null,
   "metadata": {
    "uuid": "8bb0b813-2a8b-42ef-ada1-e30ae8dc3019"
   },
   "outputs": [],
   "source": [
    "plt.rcParams['font.sans-serif'] = ['SimHei']  # 用来正常显示中文标签\n",
    "plt.rcParams['axes.unicode_minus'] = False  # 用来正常显示负号\n",
    "plt.rcParams['figure.figsize'] = (10, 6)  # 设置输出图片大小"
   ]
  },
  {
   "cell_type": "markdown",
   "metadata": {
    "cellType": "markdown",
    "uuid": "099fa8b5-2d93-4ec7-b197-eeb9598b9e58"
   },
   "source": [
    "载入这些库，如果缺少某些库，请安装他们\n",
    "\n",
    "【思考】这些库的作用是什么呢？你需要查一查\n",
    "\n",
    "#思考题回答\n"
   ]
  },
  {
   "cell_type": "code",
   "execution_count": null,
   "metadata": {
    "uuid": "2c1774d2-6b4b-44d6-9f7a-7073144f0224"
   },
   "outputs": [],
   "source": [
    "%matplotlib inline"
   ]
  },
  {
   "cell_type": "markdown",
   "metadata": {
    "cellType": "markdown",
    "uuid": "8351a424-ef3f-4183-9ec4-b54b52861c7d"
   },
   "source": [
    "载入我们提供清洗之后的数据(clear_data.csv)，大家也将原始数据载入（train.csv），说说他们有什么不同"
   ]
  },
  {
   "cell_type": "code",
   "execution_count": null,
   "metadata": {
    "uuid": "7774bce8-af3d-4d9e-93cc-408181827813"
   },
   "outputs": [],
   "source": [
    "plt.rcParams['font.sans-serif'] = ['SimHei']  # 用来正常显示中文标签\n",
    "plt.rcParams['axes.unicode_minus'] = False  # 用来正常显示负号\n",
    "plt.rcParams['figure.figsize'] = (10, 6)  # 设置输出图片大小"
   ]
  },
  {
   "cell_type": "code",
   "execution_count": null,
   "metadata": {
    "uuid": "3cb1e0d2-5e24-4502-ae85-1bd08a272281"
   },
   "outputs": [],
   "source": [
    "# 读取原数据数集\n",
    "train = pd.read_csv('train.csv')\n",
    "train.shape"
   ]
  },
  {
   "cell_type": "code",
   "execution_count": null,
   "metadata": {
    "uuid": "8b5745ad-22da-409d-863c-3e7fb5acda06"
   },
   "outputs": [],
   "source": [
    "train.head()"
   ]
  },
  {
   "cell_type": "code",
   "execution_count": null,
   "metadata": {
    "uuid": "d54a04b5-0ff8-4079-ac88-f0cbffae0697"
   },
   "outputs": [],
   "source": [
    "#读取清洗过的数据集\n",
    "data = pd.read_csv('clear_data.csv')\n"
   ]
  },
  {
   "cell_type": "code",
   "execution_count": null,
   "metadata": {
    "uuid": "479d7763-f211-4c50-9039-695e152950ba"
   },
   "outputs": [],
   "source": [
    "data.head()"
   ]
  },
  {
   "cell_type": "markdown",
   "metadata": {
    "cellType": "markdown",
    "uuid": "28df7248-5581-446b-97fd-7fc4ec6ec43c"
   },
   "source": [
    "模型搭建\n",
    "处理完前面的数据我们就得到建模数据，下一步是选择合适模型\n",
    "在进行模型选择之前我们需要先知道数据集最终是进行监督学习还是无监督学习\n",
    "模型的选择一方面是通过我们的任务来决定的。\n",
    "除了根据我们任务来选择模型外，还可以根据数据样本量以及特征的稀疏性来决定\n",
    "刚开始我们总是先尝试使用一个基本的模型来作为其baseline，进而再训练其他模型做对比，最终选择泛化能力或性能比较好的模型\n",
    "这里我的建模，并不是从零开始，自己一个人完成完成所有代码的编译。我们这里使用一个机器学习最常用的一个库（sklearn）来完成我们的模型的搭建\n",
    "\n",
    "下面给出sklearn的算法选择路径，供大家参考"
   ]
  },
  {
   "cell_type": "code",
   "execution_count": null,
   "metadata": {
    "uuid": "383eaa1b-14fd-4d3d-9b29-c3097a3b9ea5"
   },
   "outputs": [],
   "source": [
    "# sklearn模型算法选择路径图\n",
    "Image('sklearn.png')\n"
   ]
  },
  {
   "cell_type": "markdown",
   "metadata": {
    "cellType": "markdown",
    "uuid": "e21bb8ba-3b3a-41eb-a6e6-c39186ea12db"
   },
   "source": [
    "任务一：切割训练集和测试集\n",
    "这里使用留出法划分数据集\n",
    "\n",
    "将数据集分为自变量和因变量\n",
    "按比例切割训练集和测试集(一般测试集的比例有30%、25%、20%、15%和10%)\n",
    "使用分层抽样\n",
    "设置随机种子以便结果能复现\n",
    "【思考】\n",
    "\n",
    "划分数据集的方法有哪些？\n",
    "为什么使用分层抽样，这样的好处有什么？\n",
    "任务提示1\n",
    "切割数据集是为了后续能评估模型泛化能力\n",
    "sklearn中切割数据集的方法为train_test_split\n",
    "查看函数文档可以在jupyter noteboo里面使用train_test_split?后回车即可看到\n",
    "分层和随机种子在参数里寻找"
   ]
  },
  {
   "cell_type": "code",
   "execution_count": null,
   "metadata": {
    "uuid": "52393e33-643a-43ba-ad87-823c8e0050bc"
   },
   "outputs": [],
   "source": [
    "from sklearn.model_selection import train_test_split"
   ]
  },
  {
   "cell_type": "code",
   "execution_count": null,
   "metadata": {
    "uuid": "5e2ed01e-3a71-45a5-a12d-eb5c4e3b38da"
   },
   "outputs": [],
   "source": [
    "# 一般先取出X和y后再切割，有些情况会使用到未切割的，这时候X和y就可以用,x是清洗好的数据，y是我们要预测的存活数据'Survived'\n",
    "X = data\n",
    "y = train['Survived']"
   ]
  },
  {
   "cell_type": "code",
   "execution_count": null,
   "metadata": {
    "uuid": "c5feac78-392d-46a7-902d-b7136b9fc81c"
   },
   "outputs": [],
   "source": [
    "# 对数据集进行切割\n",
    "X_train, X_test, y_train, y_test = train_test_split(X, y, stratify=y, random_state=0)"
   ]
  },
  {
   "cell_type": "code",
   "execution_count": null,
   "metadata": {
    "uuid": "343e5b3b-1cc9-4e3c-979d-98bc6e56e744"
   },
   "outputs": [],
   "source": [
    "# 查看数据形状\n",
    "X_train.shape, X_test.shape"
   ]
  },
  {
   "cell_type": "markdown",
   "metadata": {
    "cellType": "markdown",
    "uuid": "5774aab5-5f89-4033-b1f1-4aa501f8a162"
   },
   "source": [
    "【思考】\n",
    "\n",
    "什么情况下切割数据集的时候不用进行随机选取"
   ]
  },
  {
   "cell_type": "markdown",
   "metadata": {
    "cellType": "markdown",
    "uuid": "80747162-33c9-40e0-9c90-3d24162aedab"
   },
   "source": [
    "任务二：模型创建\n",
    "创建基于线性模型的分类模型（逻辑回归）\n",
    "创建基于树的分类模型（决策树、随机森林）\n",
    "分别使用这些模型进行训练，分别的到训练集和测试集的得分\n",
    "查看模型的参数，并更改参数值，观察模型变化\n",
    "提示2\n",
    "逻辑回归不是回归模型而是分类模型，不要与LinearRegression混淆\n",
    "随机森林其实是决策树集成为了降低决策树过拟合的情况\n",
    "线性模型所在的模块为sklearn.linear_model\n",
    "树模型所在的模块为sklearn.ensemble"
   ]
  },
  {
   "cell_type": "code",
   "execution_count": null,
   "metadata": {
    "uuid": "17d796fb-d5a5-430d-a5ce-37149fc1953a"
   },
   "outputs": [],
   "source": [
    "from sklearn.linear_model import LogisticRegression\n",
    "from sklearn.ensemble import RandomForestClassifier\n"
   ]
  },
  {
   "cell_type": "code",
   "execution_count": null,
   "metadata": {
    "uuid": "b76ab145-e04c-4ff5-8f3e-4f8a7db3995c"
   },
   "outputs": [],
   "source": [
    "# 默认参数逻辑回归模型\n",
    "lr = LogisticRegression()\n",
    "lr.fit(X_train, y_train)"
   ]
  },
  {
   "cell_type": "code",
   "execution_count": null,
   "metadata": {
    "uuid": "754ce2d6-3458-4745-97f0-38f8067fbf25"
   },
   "outputs": [],
   "source": [
    "# 查看训练集和测试集score值\n",
    "print(\"Training set score: {:.2f}\".format(lr.score(X_train, y_train)))\n",
    "print(\"Testing set score: {:.2f}\".format(lr.score(X_test, y_test)))"
   ]
  },
  {
   "cell_type": "code",
   "execution_count": null,
   "metadata": {
    "uuid": "593e0934-80e5-4e1d-9918-dcd63f2624b1"
   },
   "outputs": [],
   "source": [
    "# 调整参数后的逻辑回归模型\n",
    "lr2 = LogisticRegression(C=100)\n",
    "lr2.fit(X_train, y_train)"
   ]
  },
  {
   "cell_type": "code",
   "execution_count": null,
   "metadata": {
    "uuid": "d89760bb-93d0-4d71-952b-06175ac52a50"
   },
   "outputs": [],
   "source": [
    "print(\"Training set score: {:.2f}\".format(lr2.score(X_train, y_train)))\n",
    "print(\"Testing set score: {:.2f}\".format(lr2.score(X_test, y_test)))"
   ]
  },
  {
   "cell_type": "code",
   "execution_count": null,
   "metadata": {
    "uuid": "532edf68-75bb-42ac-bcdb-f56c145716b3"
   },
   "outputs": [],
   "source": [
    "# 默认参数的随机森林分类模型\n",
    "rfc = RandomForestClassifier()\n",
    "rfc.fit(X_train, y_train)"
   ]
  },
  {
   "cell_type": "code",
   "execution_count": null,
   "metadata": {
    "uuid": "5d4a4e9f-4694-4fff-8557-1a0447cc242c"
   },
   "outputs": [],
   "source": [
    "print(\"Training set score: {:.2f}\".format(rfc.score(X_train, y_train)))\n",
    "print(\"Testing set score: {:.2f}\".format(rfc.score(X_test, y_test)))"
   ]
  },
  {
   "cell_type": "code",
   "execution_count": null,
   "metadata": {
    "uuid": "0a3f6488-631f-4166-af7f-9f29de24444b"
   },
   "outputs": [],
   "source": [
    "# 调整参数后的随机森林分类模型\n",
    "rfc2 = RandomForestClassifier(n_estimators=100, max_depth=5)\n",
    "rfc2.fit(X_train, y_train)"
   ]
  },
  {
   "cell_type": "code",
   "execution_count": null,
   "metadata": {
    "uuid": "6be93821-d39d-40ea-8975-b5506f444cf3"
   },
   "outputs": [],
   "source": [
    "print(\"Training set score: {:.2f}\".format(rfc2.score(X_train, y_train)))\n",
    "print(\"Testing set score: {:.2f}\".format(rfc2.score(X_test, y_test)))"
   ]
  },
  {
   "cell_type": "markdown",
   "metadata": {
    "cellType": "markdown",
    "uuid": "bc6363d0-29f2-4c3e-b4cd-cc3b0c991177"
   },
   "source": [
    "【思考】\n",
    "\n",
    "为什么线性模型可以进行分类任务，背后是怎么的数学关系\n",
    "对于多分类问题，线性模型是怎么进行分类的\n",
    "#思考回答\n",
    "任务三：输出模型预测结果\n",
    "输出模型预测分类标签\n",
    "输出不同分类标签的预测概率\n",
    "提示3\n",
    "一般监督模型在sklearn里面有个predict能输出预测标签，predict_proba则可以输出标签概率"
   ]
  },
  {
   "cell_type": "code",
   "execution_count": null,
   "metadata": {
    "uuid": "4c3ba6d5-cf3e-4dca-a5b5-bd8739d15363"
   },
   "outputs": [],
   "source": [
    "# 预测标签\n",
    "pred = lr.predict(X_train)"
   ]
  },
  {
   "cell_type": "code",
   "execution_count": null,
   "metadata": {
    "uuid": "4525004e-2f70-40e4-b181-c36b2a2ea794"
   },
   "outputs": [],
   "source": [
    "# 此时我们可以看到0和1的数组\n",
    "pred[:10]"
   ]
  },
  {
   "cell_type": "code",
   "execution_count": null,
   "metadata": {
    "uuid": "cbdf55bc-35ff-4948-a51d-0e1ab08553fd"
   },
   "outputs": [],
   "source": [
    "# 预测标签概率\n",
    "pred_proba = lr.predict_proba(X_train)\n"
   ]
  },
  {
   "cell_type": "code",
   "execution_count": null,
   "metadata": {
    "uuid": "e0bd8b3c-4aad-4e5d-9710-bb655f587b12"
   },
   "outputs": [],
   "source": [
    "pred_proba[:10]"
   ]
  },
  {
   "cell_type": "markdown",
   "metadata": {
    "cellType": "markdown",
    "uuid": "bde12c8d-2ef9-47f2-ad75-3df85f81ff10"
   },
   "source": [
    "【思考】\n",
    "\n",
    "预测标签的概率对我们有什么帮助"
   ]
  },
  {
   "cell_type": "code",
   "execution_count": null,
   "metadata": {
    "uuid": "2418c5e0-18c3-4128-8ff8-a94df3980668"
   },
   "outputs": [],
   "source": []
  }
 ],
 "metadata": {
  "kernelspec": {
   "display_name": "Python 3",
   "language": "python",
   "name": "python3"
  },
  "language_info": {
   "codemirror_mode": {
    "name": "ipython",
    "version": 3
   },
   "file_extension": ".py",
   "mimetype": "text/x-python",
   "name": "python",
   "nbconvert_exporter": "python",
   "pygments_lexer": "ipython3",
   "version": "3.6.3"
  }
 },
 "nbformat": 4,
 "nbformat_minor": 4
}
