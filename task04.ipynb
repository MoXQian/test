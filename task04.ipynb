{
 "cells": [
  {
   "cell_type": "markdown",
   "metadata": {
    "cellType": "markdown",
    "uuid": "7482bd46-2708-44e3-9110-4137f3234bb8"
   },
   "source": [
    " 第二章：数据可视化\n"
   ]
  },
  {
   "cell_type": "code",
   "execution_count": null,
   "metadata": {
    "uuid": "a7a21fe1-083d-4d3d-8296-f552cd744db3"
   },
   "outputs": [],
   "source": [
    "# 加载所需的库\n",
    "# 如果出现 ModuleNotFoundError: No module named 'xxxx'\n",
    "# 你只需要在终端/cmd下 pip install xxxx 即可\n",
    "%matplotlib inline\n",
    "import numpy as np\n",
    "import pandas as pd\n",
    "import matplotlib.pyplot as plt\n",
    "导入result.csv这个文件\n",
    "\n",
    "text = pd.read_csv(r'result.csv')\n",
    "text.head()"
   ]
  },
  {
   "cell_type": "markdown",
   "metadata": {
    "cellType": "markdown",
    "uuid": "e16a101d-cac3-4b2b-ade8-8ddd963810ee"
   },
   "source": [
    "2.7 如何让人一眼看懂你的数据？\n",
    "《Python for Data Analysis》第九章\n",
    "\n",
    "2.7.1 任务一：跟着书本第九章，了解matplotlib，自己创建一个数据项，对其进行基本可视化\n",
    "【思考】最基本的可视化图案有哪些？分别适用于那些场景？（比如折线图适合可视化某个属性值随时间变化的走势）"
   ]
  },
  {
   "cell_type": "markdown",
   "metadata": {
    "cellType": "markdown",
    "uuid": "30af437d-fd72-4215-8af8-b82676530f32"
   },
   "source": [
    "#思考回答\n",
    "#这一部分需要了解可视化图案的的逻辑，知道什么样的图案可以表达什么样的信号\n",
    "2.7.2 任务二：可视化展示泰坦尼克号数据集中男女中生存人数分布情况（用柱状图试试）。"
   ]
  },
  {
   "cell_type": "code",
   "execution_count": null,
   "metadata": {
    "uuid": "adac0b92-f04f-4a87-a452-d802fe2e29cc"
   },
   "outputs": [],
   "source": [
    "sex = text.groupby('Sex')['Survived'].sum()\n",
    "sex.plot.bar()\n",
    "plt.title('survived_count')\n",
    "plt.show()"
   ]
  },
  {
   "cell_type": "markdown",
   "metadata": {
    "cellType": "markdown",
    "uuid": "05d3f0bc-bb8a-4561-bf7f-f1a631b2e7b4"
   },
   "source": [
    "【思考】计算出泰坦尼克号数据集中男女中死亡人数，并可视化展示？如何和男女生存人数可视化柱状图结合到一起？看到你的数据可视化，说说你的第一感受（比如：你一眼看出男生存活人数更多，那么性别可能会影响存活率）。\n",
    "\n",
    "2.7.3 任务三：可视化展示泰坦尼克号数据集中男女中生存人与死亡人数的比例图（用柱状图试试）。"
   ]
  },
  {
   "cell_type": "code",
   "execution_count": null,
   "metadata": {
    "uuid": "a4cbe6c3-8f79-4b6d-b058-6b2374640fde"
   },
   "outputs": [],
   "source": [
    "# 提示：计算男女中死亡人数 1表示生存，0表示死亡\n",
    "text.groupby(['Sex','Survived'])['Survived'].count().unstack().plot(kind='bar',stacked='True')\n",
    "plt.title('survived_count')\n",
    "plt.ylabel('count')"
   ]
  },
  {
   "cell_type": "markdown",
   "metadata": {
    "cellType": "markdown",
    "uuid": "21e1156c-6163-4b4b-9b10-4bf538d0eed9"
   },
   "source": [
    "【提示】男女这两个数据轴，存活和死亡人数按比例用柱状图表示\n",
    "\n",
    "2.7.4 任务四：可视化展示泰坦尼克号数据集中不同票价的人生存和死亡人数分布情况。（用折线图试试）（横轴是不同票价，纵轴是存活人数）\n",
    "【提示】对于这种统计性质的且用折线表示的数据，你可以考虑将数据排序或者不排序来分别表示。看看你能发现什么？"
   ]
  },
  {
   "cell_type": "code",
   "execution_count": null,
   "metadata": {
    "uuid": "bfa5a0b6-8cac-4f7d-9720-381956521958"
   },
   "outputs": [],
   "source": [
    "# 计算不同票价中生存与死亡人数 1表示生存，0表示死亡\n",
    "fare_sur = text.groupby(['Fare'])['Survived'].value_counts().sort_values(ascending=False)\n",
    "fare_sur"
   ]
  },
  {
   "cell_type": "code",
   "execution_count": null,
   "metadata": {
    "uuid": "2b4a2615-c9d4-4265-b295-6515e46dfb9c"
   },
   "outputs": [],
   "source": [
    "# 排序后绘折线图\n",
    "fig = plt.figure(figsize=(20, 18))\n",
    "fare_sur.plot(grid=True)\n",
    "plt.legend()\n",
    "plt.show()"
   ]
  },
  {
   "cell_type": "code",
   "execution_count": null,
   "metadata": {
    "uuid": "87480ac4-7336-4503-9979-024c7087f02e"
   },
   "outputs": [],
   "source": [
    "# 排序前绘折线图\n",
    "fare_sur1 = text.groupby(['Fare'])['Survived'].value_counts()\n",
    "fare_sur1"
   ]
  },
  {
   "cell_type": "code",
   "execution_count": null,
   "metadata": {
    "uuid": "38508d6c-e628-4899-b76d-c552c3481d4d"
   },
   "outputs": [],
   "source": [
    "fig = plt.figure(figsize=(20, 18))\n",
    "fare_sur1.plot(grid=True)\n",
    "plt.legend()\n",
    "plt.show()"
   ]
  },
  {
   "cell_type": "markdown",
   "metadata": {
    "cellType": "markdown",
    "uuid": "27c09626-7ea5-45fb-ba3c-2d18e4a92915"
   },
   "source": [
    "2.7.5 任务五：可视化展示泰坦尼克号数据集中不同仓位等级的人生存和死亡人员的分布情况。（用柱状图试试）"
   ]
  },
  {
   "cell_type": "code",
   "execution_count": null,
   "metadata": {
    "uuid": "7120e379-684a-414c-887a-54c50045b477"
   },
   "outputs": [],
   "source": [
    "# 1表示生存，0表示死亡\n",
    "pclass_sur = text.groupby(['Pclass'])['Survived'].value_counts()\n",
    "pclass_sur"
   ]
  },
  {
   "cell_type": "code",
   "execution_count": null,
   "metadata": {
    "uuid": "1166a78e-fd80-460d-9bf1-4bbe24775c31"
   },
   "outputs": [],
   "source": [
    "import seaborn as sns\n",
    "sns.countplot(x=\"Pclass\", hue=\"Survived\", data=text)"
   ]
  },
  {
   "cell_type": "markdown",
   "metadata": {
    "cellType": "markdown",
    "uuid": "bac4139c-0723-4c1a-a2d0-770026684370"
   },
   "source": [
    "【思考】看到这个前面几个数据可视化，说说你的第一感受和你的总结\n",
    "\n",
    "#思考题回答\n",
    "2.7.6 任务六：可视化展示泰坦尼克号数据集中不同年龄的人生存与死亡人数分布情况。(不限表达方式)"
   ]
  },
  {
   "cell_type": "code",
   "execution_count": null,
   "metadata": {
    "uuid": "3ce3c027-3a5a-4e95-b838-d3560156a3e9"
   },
   "outputs": [],
   "source": [
    "facet = sns.FacetGrid(text, hue=\"Survived\",aspect=3)\n",
    "facet.map(sns.kdeplot,'Age',shade= True)\n",
    "facet.set(xlim=(0, text['Age'].max()))\n",
    "facet.add_legend()"
   ]
  },
  {
   "cell_type": "code",
   "execution_count": null,
   "metadata": {
    "uuid": "a6938924-1d97-4d3b-8d1b-76c1d309be52"
   },
   "outputs": [],
   "source": [
    "2.7.7 任务七：可视化展示泰坦尼克号数据集中不同仓位等级的人年龄分布情况。（用折线图试试）\n",
    "text.Age[text.Pclass == 1].plot(kind='kde')\n",
    "text.Age[text.Pclass == 2].plot(kind='kde')\n",
    "text.Age[text.Pclass == 3].plot(kind='kde')\n",
    "plt.xlabel(\"age\")\n",
    "plt.legend((1,2,3),loc=\"best\")"
   ]
  },
  {
   "cell_type": "code",
   "execution_count": null,
   "metadata": {
    "uuid": "f0c2fd29-3de0-4687-9f95-c19b14487e06"
   },
   "outputs": [],
   "source": [
    "2.7.7 任务七：可视化展示泰坦尼克号数据集中不同仓位等级的人年龄分布情况。（用折线图试试）\n",
    "text.Age[text.Pclass == 1].plot(kind='kde')\n",
    "text.Age[text.Pclass == 2].plot(kind='kde')\n",
    "text.Age[text.Pclass == 3].plot(kind='kde')\n",
    "plt.xlabel(\"age\")\n",
    "plt.legend((1,2,3),loc=\"best\")"
   ]
  }
 ],
 "metadata": {
  "kernelspec": {
   "display_name": "Python 3",
   "language": "python",
   "name": "python3"
  },
  "language_info": {
   "codemirror_mode": {
    "name": "ipython",
    "version": 3
   },
   "file_extension": ".py",
   "mimetype": "text/x-python",
   "name": "python",
   "nbconvert_exporter": "python",
   "pygments_lexer": "ipython3",
   "version": "3.6.3"
  }
 },
 "nbformat": 4,
 "nbformat_minor": 4
}
